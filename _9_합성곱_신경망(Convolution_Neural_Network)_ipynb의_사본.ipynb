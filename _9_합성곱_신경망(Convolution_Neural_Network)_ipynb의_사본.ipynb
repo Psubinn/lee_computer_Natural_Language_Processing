{
  "nbformat": 4,
  "nbformat_minor": 0,
  "metadata": {
    "colab": {
      "name": "_9 합성곱 신경망(Convolution Neural Network).ipynb의 사본",
      "provenance": [],
      "collapsed_sections": []
    },
    "kernelspec": {
      "name": "python3",
      "display_name": "Python 3"
    },
    "accelerator": "GPU"
  },
  "cells": [
    {
      "cell_type": "markdown",
      "metadata": {
        "id": "86l7I5SQ_u9J"
      },
      "source": [
        "# 합성곱 신경망(Convolution Neural Network)\n",
        "\n",
        "- 이미지 인식, 음성 인식 등에 자주 사용되는데,  \n",
        "  특히, 이미지 인식 분야에서 거의 모든 딥러닝 기술에 사용\n",
        "\n",
        "<br>\n",
        "\n",
        "## 컨볼루션 신경망의 등장\n",
        "- 1989년 얀 르쿤(Yann LeCun) 교수의 논문에서 발표\n",
        "\n",
        "  - 필기체 인식에서 의미가 있었지만 범용화하는데에는 무리\n",
        "\n",
        "- 1998년, \"Gradient-Based Learning Applied to Document Recognition\"이라는 논문에서 LeNet-5 제시\n",
        "\n",
        "- 합성곱 층(convolution layer), 풀링 층(pooling layer) 소개\n",
        "  <br>\n",
        "\n",
        "  <img src=\"https://miro.medium.com/max/4308/1*1TI1aGBZ4dybR6__DI9dzA.png\">\n",
        "  \n",
        "  <center>[LeNet-5 구조]</center>\n",
        "\n",
        "  <sub>출처: https://medium.com/@pechyonkin/key-deep-learning-architectures-lenet-5-6fc3c59e6f4</sub>"
      ]
    },
    {
      "cell_type": "markdown",
      "metadata": {
        "id": "Y46evOQHNukF"
      },
      "source": [
        "## 컨볼루션 신경망 구조 예시\n",
        "\n",
        "<img src=\"https://www.oreilly.com/library/view/neural-network-projects/9781789138900/assets/c38754ca-f2ea-425a-b7a6-1fe0f2f5074e.png\" width=\"600\">\n",
        "\n",
        "<sub>출처: https://www.oreilly.com/library/view/neural-network-projects/9781789138900/8e87ad66-6de3-4275-81a4-62b54436bf16.xhtml</sub>\n",
        "\n"
      ]
    },
    {
      "cell_type": "markdown",
      "metadata": {
        "id": "Wtb8UWyTNxp_"
      },
      "source": [
        "## 합성곱 연산\n",
        "- 필터(filter) 연산\n",
        "  - 입력 데이터에 필터를 통한 어떠한 연산을 진행\n",
        "  \n",
        "  - **필터에 대응하는 원소끼리 곱하고, 그 합을 구함**\n",
        "\n",
        "  - 연산이 완료된 결과 데이터를 **특징 맵(feature map)**이라 부름\n",
        "\n",
        "- 필터(filter)\n",
        "  - 커널(kernel)이라고도 칭함\n",
        "  \n",
        "  - 흔히 사진 어플에서 사용하는 '이미지 필터'와 비슷한 개념\n",
        "\n",
        "  - 필터의 사이즈는 \"거의 항상 홀수\"\n",
        "    - 짝수이면 패딩이 비대칭이 되어버림\n",
        "  \n",
        "    - 왼쪽, 오른쪽을 다르게 주어야함\n",
        "  \n",
        "    - 중심위치가 존재, 즉 구별된 하나의 픽셀(중심 픽셀)이 존재\n",
        "\n",
        "  - 필터의 학습 파라미터 개수는 입력 데이터의 크기와 상관없이 일정  \n",
        "    따라서, 과적합을 방지할 수 있음\n",
        "\n",
        "  <br>\n",
        "  <img src=\"http://deeplearning.net/software/theano_versions/dev/_images/numerical_no_padding_no_strides.gif\">\n",
        "\n",
        "  <sub>출처: http://deeplearning.net/software/theano_versions/dev/tutorial/conv_arithmetic.html</sub>\n",
        "\n",
        "\n",
        "- 연산 시각화\n",
        "  <img src=\"https://www.researchgate.net/profile/Ihab_S_Mohamed/publication/324165524/figure/fig3/AS:611103423860736@1522709818959/An-example-of-convolution-operation-in-2D-2.png\" width=\"500\">\n",
        "\n",
        "  <sub>출처: https://www.researchgate.net/figure/An-example-of-convolution-operation-in-2D-2_fig3_324165524</sub>\n",
        "\n",
        "\n",
        "- 일반적으로, 합성곱 연산을 한 후의 데이터 사이즈는  \n",
        "  ### $\\quad (n-f+1) \\times (n-f+1)$\n",
        "    $n$: 입력 데이터의 크기  \n",
        "    $f$: 필터(커널)의 크기\n",
        "\n",
        "\n",
        "  <img src=\"https://miro.medium.com/max/1400/1*Fw-ehcNBR9byHtho-Rxbtw.gif\" width=\"400\">\n",
        "\n",
        "  <sub>출처: https://towardsdatascience.com/intuitively-understanding-convolutions-for-deep-learning-1f6f42faee1</sub>\n",
        "  \n",
        "  위 예에서 입력 데이터 크기($n$)는 5, 필터의 크기($k$)는 3이므로  \n",
        "  출력 데이터의 크기는 $(5 - 3 + 1) = 3$\n"
      ]
    },
    {
      "cell_type": "markdown",
      "metadata": {
        "id": "5-ekDsJwN2Y-"
      },
      "source": [
        "## 패딩(padding)과 스트라이드(stride)\n",
        "- 필터(커널) 사이즈과 함께 **입력 이미지와 출력 이미지의 사이즈를 결정**하기 위해 사용\n",
        "\n",
        "- 사용자가 결정할 수 있음\n"
      ]
    },
    {
      "cell_type": "markdown",
      "metadata": {
        "id": "alV1bgcjN4Kc"
      },
      "source": [
        "\n",
        "### 패딩\n",
        "- 입력 데이터의 주변을 특정 값으로 채우는 기법\n",
        "  - 주로 0으로 많이 채움\n",
        "\n",
        "  <img src=\"http://deeplearning.net/software/theano_versions/dev/_images/arbitrary_padding_no_strides.gif\" width=\"300\">\n",
        "\n",
        "- 출력 데이터의 크기\n",
        "  ### $\\quad (n+2p-f+1) \\times (n+2p-f+1)$\n",
        "\n",
        "  위 그림에서, 입력 데이터의 크기($n$)는 5, 필터의 크기($f$)는 4, 패딩값($p$)은 2이므로    \n",
        "  출력 데이터의 크기는 ($5 + 2\\times 2 - 4 + 1) = 6$\n",
        "\n",
        "### 'valid' 와 'same'\n",
        "- 'valid'\n",
        "  - 패딩을 주지 않음\n",
        "  - padding=0 (0으로 채워진 테두리가 아니라 패딩을 주지 않는다는 의미)\n",
        "\n",
        "- 'same'\n",
        "  - 패딩을 주어 입력 이미지의 크기와 연산 후의 이미지 크기를 같게함\n",
        "\n",
        "  - 만약, 필터(커널)의 크기가 $k$ 이면,  \n",
        "    패딩의 크기는 $p = \\frac{k-1}{2}$ (단, <u>stride=1)</u>"
      ]
    },
    {
      "cell_type": "markdown",
      "metadata": {
        "id": "zlZ7zG6ON85J"
      },
      "source": [
        "\n",
        "\n",
        "### 스트라이드\n",
        "- 필터를 적용하는 간격을 의미\n",
        "\n",
        "- 아래는 그림의 간격 2\n",
        "\n",
        "  <img src=\"http://deeplearning.net/software/theano_versions/dev/_images/no_padding_strides.gif\">\n"
      ]
    },
    {
      "cell_type": "markdown",
      "metadata": {
        "id": "LPcsND-0OCNm"
      },
      "source": [
        "## 출력 데이터의 크기\n",
        "\n",
        "## $\\qquad OH = \\frac{H + 2P - FH}{S} + 1 $ \n",
        "## $\\qquad OW = \\frac{W + 2P - FW}{S} + 1 $ \n",
        "\n",
        "- 입력 크기 : $(H, W)$\n",
        "\n",
        "- 필터 크기 : $(FH, FW)$\n",
        "\n",
        "- 출력 크기 : $(OH, OW)$\n",
        "\n",
        "- 패딩, 스트라이드 : $P, S$\n",
        "\n",
        "- (주의) \n",
        "  - 위 식의 값에서 $\\frac{H + 2P - FH}{S}$ 또는 $\\frac{W + 2P - FW}{S}$가 정수로 나누어 떨어지는 값이어야 함\n",
        "  - 만약, 정수로 나누어 떨어지지 않으면  \n",
        "    패딩, 스트라이드값을 조정하여 정수로 나누어 떨어지게 해야함\n"
      ]
    },
    {
      "cell_type": "markdown",
      "metadata": {
        "id": "1x4UoMbF8jJ9"
      },
      "source": [
        "## 풀링(Pooling)\n",
        "\n",
        "- 필터(커널) 사이즈 내에서 특정 값을 추출하는 과정"
      ]
    },
    {
      "cell_type": "markdown",
      "metadata": {
        "id": "lDiaO3XF8oC_"
      },
      "source": [
        "### 맥스 풀링(Max Pooling)\n",
        "- 가장 많이 사용되는 방법\n",
        "\n",
        "- 출력 데이터의 사이즈 계산은 컨볼루션 연산과 동일\n",
        "## $\\quad OH = \\frac{H + 2P - FH}{S} + 1 $ \n",
        "## $\\quad OW = \\frac{W + 2P - FW}{S} + 1 $ \n",
        "\n",
        "- 일반적으로 stride=2, kernel_size=2 를 통해  \n",
        "  **특징맵의 크기를 <u>절반으로 줄이는 역할</u>**\n",
        "\n",
        "- 모델이 물체의 주요한 특징을 학습할 수 있도록 해주며,  \n",
        "  컨볼루션 신경망이 이동 불변성 특성을 가지게 해줌\n",
        "  - 예를 들어, 아래의 그림에서 초록색 사각형 안에 있는  \n",
        "    2와 8의 위치를 바꾼다해도 맥스 풀링 연산은 8을 추출\n",
        "\n",
        "- 모델의 파라미터 개수를 줄여주고, 연산 속도를 빠르게 해줌\n",
        "\n",
        "  <br>\n",
        "\n",
        "  <img src=\"https://cs231n.github.io/assets/cnn/maxpool.jpeg\" width=\"600\">\n",
        "\n",
        "  <sub>출처: https://cs231n.github.io/convolutional-networks/</sub>"
      ]
    },
    {
      "cell_type": "markdown",
      "metadata": {
        "id": "CrvtX4LrkhPI"
      },
      "source": [
        "## Conv1D \n",
        "\n",
        "- 텍스트 분류나 시계열 예측 같은 간단한 문제, 오디오 생성, 기계 번역 등의 문제에서 좋은 성능\n",
        "\n",
        "- 타임스텝의 순서에 민감하지 X\n",
        "\n",
        "\n",
        "- 2D Convolution\n",
        "  - 지역적 특징을 인식\n",
        "\n",
        "  <img src=\"https://missinglink.ai/wp-content/uploads/2019/03/2D-convolutional-example_2x-700x584.png\" width=\"500\">\n",
        "\n",
        "- 1D Convolution\n",
        "  - 문맥을 인식\n",
        "\n",
        "  <img src=\"https://missinglink.ai/wp-content/uploads/2019/03/1D-convolutional-example_2x.png\" width=\"500\">\n",
        "\n",
        "  <sub>출처: https://missinglink.ai/guides/keras/keras-conv1d-working-1d-convolutional-neural-networks-keras/</sub>"
      ]
    },
    {
      "cell_type": "markdown",
      "metadata": {
        "id": "aJNAI-aYnDuc"
      },
      "source": [
        "### Conv1D Layer\n",
        "- 입력: `(batch_size, timesteps, channels)`\n",
        "\n",
        "- 출력: `(batch_size, timesteps, filters)`\n",
        "\n",
        "- 필터의 사이즈가 커져도 모델이 급격히 증가하지 않기 때문에 다양한 크기를 사용할 수 있음\n",
        "- 데이터의 품질이 좋으면 굳이 크기를 달리하여 여러 개를 사용하지 않아도 될 수도 있음"
      ]
    },
    {
      "cell_type": "markdown",
      "metadata": {
        "id": "ADJZHPLJqTZa"
      },
      "source": [
        "### MaxPooling1D Layer\n",
        "- 다운 샘플링 효과\n",
        "\n",
        "- 단지 1차원형태로 바뀐 것 뿐"
      ]
    },
    {
      "cell_type": "markdown",
      "metadata": {
        "id": "wirZzwYJrNll"
      },
      "source": [
        "### GlovalMaxPooling Layer\n",
        "- 배치차원을 제외하고 2차원 형태를 1차원 형태로 바꾸어주는 레이어\n",
        "\n",
        "- Flatten layer로 대신 사용가능"
      ]
    },
    {
      "cell_type": "markdown",
      "metadata": {
        "id": "YQY_1IL9nQs2"
      },
      "source": [
        "## IMDB 데이터"
      ]
    },
    {
      "cell_type": "markdown",
      "metadata": {
        "id": "pl4Eu32qnUES"
      },
      "source": [
        "### 데이터 로드 및 전처리"
      ]
    },
    {
      "cell_type": "code",
      "metadata": {
        "id": "WcG-Hiltklbe"
      },
      "source": [
        "from tensorflow.keras.datasets import imdb\n",
        "from tensorflow.keras.preprocessing.sequence import pad_sequences\n",
        "from tensorflow.keras.models import Sequential\n",
        "from tensorflow.keras.optimizers import RMSprop\n",
        "from tensorflow.keras.layers import Dense, Embedding, Conv1D, MaxPooling1D, GlobalMaxPooling1D"
      ],
      "execution_count": 5,
      "outputs": []
    },
    {
      "cell_type": "code",
      "metadata": {
        "id": "GGYaNT8hnec5",
        "colab": {
          "base_uri": "https://localhost:8080/"
        },
        "outputId": "8f7139f9-da22-4b9d-c63f-c7e4f65bb4a6"
      },
      "source": [
        "num_words = 10000\n",
        "max_len = 500\n",
        "batch_size = 32\n",
        "\n",
        "(input_train, y_train), (input_test, y_test) =  imdb.load_data(num_words=num_words)\n",
        "\n",
        "print(len(input_train))\n",
        "print(len(input_test))"
      ],
      "execution_count": 6,
      "outputs": [
        {
          "output_type": "stream",
          "name": "stdout",
          "text": [
            "Downloading data from https://storage.googleapis.com/tensorflow/tf-keras-datasets/imdb.npz\n",
            "17465344/17464789 [==============================] - 0s 0us/step\n",
            "17473536/17464789 [==============================] - 0s 0us/step\n",
            "25000\n",
            "25000\n"
          ]
        }
      ]
    },
    {
      "cell_type": "code",
      "metadata": {
        "id": "nQBzp3ownpEK",
        "colab": {
          "base_uri": "https://localhost:8080/"
        },
        "outputId": "0640e904-4268-47ce-b605-2c6b1a6512d5"
      },
      "source": [
        "pad_x_train = pad_sequences(input_train, maxlen=max_len)\n",
        "pad_x_test = pad_sequences(input_test, maxlen=max_len)\n",
        "\n",
        "print(pad_x_train.shape)\n",
        "print(pad_x_test.shape)"
      ],
      "execution_count": 11,
      "outputs": [
        {
          "output_type": "stream",
          "name": "stdout",
          "text": [
            "(25000, 500)\n",
            "(25000, 500)\n"
          ]
        }
      ]
    },
    {
      "cell_type": "markdown",
      "metadata": {
        "id": "j3E0hYiHoBO0"
      },
      "source": [
        "### 모델 구성"
      ]
    },
    {
      "cell_type": "code",
      "metadata": {
        "id": "PvKPr7N6nuHr"
      },
      "source": [
        "def build_model():\n",
        "  model = Sequential()\n",
        "\n",
        "  model.add(Embedding(input_dim = num_words, output_dim = 32, input_length=max_len))\n",
        "  model.add(Conv1D(32,7,activation=\"relu\"))\n",
        "  model.add(MaxPooling1D(7))\n",
        "  model.add(Conv1D(32,5,activation=\"relu\"))\n",
        "  model.add(MaxPooling1D())\n",
        "  model.add(GlobalMaxPooling1D())\n",
        "  model.add(Dense(1,activation=\"sigmoid\"))\n",
        "\n",
        "  model.compile(optimizer=RMSprop(learning_rate=1e-4),\n",
        "                loss=\"binary_crossentropy\",\n",
        "                metrics=[\"accuracy\"])\n",
        "  \n",
        "  return model"
      ],
      "execution_count": 14,
      "outputs": []
    },
    {
      "cell_type": "code",
      "metadata": {
        "id": "wwWZ47NHolB6",
        "colab": {
          "base_uri": "https://localhost:8080/"
        },
        "outputId": "03132fea-fcac-4a87-b975-ba1ee2070846"
      },
      "source": [
        "model = build_model()\n",
        "model.summary()"
      ],
      "execution_count": 15,
      "outputs": [
        {
          "output_type": "stream",
          "name": "stdout",
          "text": [
            "Model: \"sequential_1\"\n",
            "_________________________________________________________________\n",
            " Layer (type)                Output Shape              Param #   \n",
            "=================================================================\n",
            " embedding_1 (Embedding)     (None, 500, 32)           320000    \n",
            "                                                                 \n",
            " conv1d_2 (Conv1D)           (None, 494, 32)           7200      \n",
            "                                                                 \n",
            " max_pooling1d_2 (MaxPooling  (None, 70, 32)           0         \n",
            " 1D)                                                             \n",
            "                                                                 \n",
            " conv1d_3 (Conv1D)           (None, 66, 32)            5152      \n",
            "                                                                 \n",
            " max_pooling1d_3 (MaxPooling  (None, 33, 32)           0         \n",
            " 1D)                                                             \n",
            "                                                                 \n",
            " global_max_pooling1d_1 (Glo  (None, 32)               0         \n",
            " balMaxPooling1D)                                                \n",
            "                                                                 \n",
            " dense (Dense)               (None, 1)                 33        \n",
            "                                                                 \n",
            "=================================================================\n",
            "Total params: 332,385\n",
            "Trainable params: 332,385\n",
            "Non-trainable params: 0\n",
            "_________________________________________________________________\n"
          ]
        }
      ]
    },
    {
      "cell_type": "markdown",
      "metadata": {
        "id": "0qUbPGdmpHpQ"
      },
      "source": [
        "### 모델 학습"
      ]
    },
    {
      "cell_type": "code",
      "metadata": {
        "id": "xcCgjLHvonWB",
        "colab": {
          "base_uri": "https://localhost:8080/"
        },
        "outputId": "2ac6a369-bbd5-4121-b0c9-a6029cfb01bb"
      },
      "source": [
        "history = model.fit(pad_x_train, y_train,\n",
        "                    batch_size=128, epochs=30,\n",
        "                    validation_split=0.2)"
      ],
      "execution_count": 16,
      "outputs": [
        {
          "output_type": "stream",
          "name": "stdout",
          "text": [
            "Epoch 1/30\n",
            "157/157 [==============================] - 14s 17ms/step - loss: 0.6928 - accuracy: 0.5217 - val_loss: 0.6922 - val_accuracy: 0.5392\n",
            "Epoch 2/30\n",
            "157/157 [==============================] - 2s 16ms/step - loss: 0.6904 - accuracy: 0.5921 - val_loss: 0.6908 - val_accuracy: 0.5694\n",
            "Epoch 3/30\n",
            "157/157 [==============================] - 2s 16ms/step - loss: 0.6873 - accuracy: 0.6337 - val_loss: 0.6879 - val_accuracy: 0.5952\n",
            "Epoch 4/30\n",
            "157/157 [==============================] - 2s 14ms/step - loss: 0.6813 - accuracy: 0.7343 - val_loss: 0.6787 - val_accuracy: 0.7184\n",
            "Epoch 5/30\n",
            "157/157 [==============================] - 2s 15ms/step - loss: 0.6656 - accuracy: 0.7642 - val_loss: 0.6545 - val_accuracy: 0.7516\n",
            "Epoch 6/30\n",
            "157/157 [==============================] - 2s 15ms/step - loss: 0.6263 - accuracy: 0.7810 - val_loss: 0.6000 - val_accuracy: 0.7818\n",
            "Epoch 7/30\n",
            "157/157 [==============================] - 2s 15ms/step - loss: 0.5561 - accuracy: 0.8035 - val_loss: 0.5212 - val_accuracy: 0.8096\n",
            "Epoch 8/30\n",
            "157/157 [==============================] - 2s 15ms/step - loss: 0.4718 - accuracy: 0.8272 - val_loss: 0.4479 - val_accuracy: 0.8264\n",
            "Epoch 9/30\n",
            "157/157 [==============================] - 2s 16ms/step - loss: 0.4003 - accuracy: 0.8461 - val_loss: 0.3960 - val_accuracy: 0.8384\n",
            "Epoch 10/30\n",
            "157/157 [==============================] - 2s 15ms/step - loss: 0.3498 - accuracy: 0.8625 - val_loss: 0.3690 - val_accuracy: 0.8444\n",
            "Epoch 11/30\n",
            "157/157 [==============================] - 2s 15ms/step - loss: 0.3154 - accuracy: 0.8755 - val_loss: 0.3479 - val_accuracy: 0.8516\n",
            "Epoch 12/30\n",
            "157/157 [==============================] - 2s 15ms/step - loss: 0.2907 - accuracy: 0.8852 - val_loss: 0.3380 - val_accuracy: 0.8580\n",
            "Epoch 13/30\n",
            "157/157 [==============================] - 2s 16ms/step - loss: 0.2717 - accuracy: 0.8929 - val_loss: 0.3299 - val_accuracy: 0.8586\n",
            "Epoch 14/30\n",
            "157/157 [==============================] - 2s 15ms/step - loss: 0.2549 - accuracy: 0.9013 - val_loss: 0.3307 - val_accuracy: 0.8582\n",
            "Epoch 15/30\n",
            "157/157 [==============================] - 2s 15ms/step - loss: 0.2408 - accuracy: 0.9081 - val_loss: 0.3230 - val_accuracy: 0.8638\n",
            "Epoch 16/30\n",
            "157/157 [==============================] - 2s 15ms/step - loss: 0.2282 - accuracy: 0.9137 - val_loss: 0.3210 - val_accuracy: 0.8662\n",
            "Epoch 17/30\n",
            "157/157 [==============================] - 2s 16ms/step - loss: 0.2169 - accuracy: 0.9180 - val_loss: 0.3204 - val_accuracy: 0.8668\n",
            "Epoch 18/30\n",
            "157/157 [==============================] - 2s 14ms/step - loss: 0.2066 - accuracy: 0.9243 - val_loss: 0.3221 - val_accuracy: 0.8664\n",
            "Epoch 19/30\n",
            "157/157 [==============================] - 2s 14ms/step - loss: 0.1974 - accuracy: 0.9277 - val_loss: 0.3225 - val_accuracy: 0.8662\n",
            "Epoch 20/30\n",
            "157/157 [==============================] - 2s 15ms/step - loss: 0.1887 - accuracy: 0.9316 - val_loss: 0.3237 - val_accuracy: 0.8674\n",
            "Epoch 21/30\n",
            "157/157 [==============================] - 2s 15ms/step - loss: 0.1804 - accuracy: 0.9342 - val_loss: 0.3261 - val_accuracy: 0.8662\n",
            "Epoch 22/30\n",
            "157/157 [==============================] - 2s 16ms/step - loss: 0.1726 - accuracy: 0.9385 - val_loss: 0.3298 - val_accuracy: 0.8646\n",
            "Epoch 23/30\n",
            "157/157 [==============================] - 2s 15ms/step - loss: 0.1652 - accuracy: 0.9416 - val_loss: 0.3355 - val_accuracy: 0.8666\n",
            "Epoch 24/30\n",
            "157/157 [==============================] - 2s 15ms/step - loss: 0.1585 - accuracy: 0.9441 - val_loss: 0.3402 - val_accuracy: 0.8628\n",
            "Epoch 25/30\n",
            "157/157 [==============================] - 2s 14ms/step - loss: 0.1524 - accuracy: 0.9472 - val_loss: 0.3409 - val_accuracy: 0.8666\n",
            "Epoch 26/30\n",
            "157/157 [==============================] - 2s 15ms/step - loss: 0.1462 - accuracy: 0.9502 - val_loss: 0.3437 - val_accuracy: 0.8658\n",
            "Epoch 27/30\n",
            "157/157 [==============================] - 2s 16ms/step - loss: 0.1405 - accuracy: 0.9534 - val_loss: 0.3468 - val_accuracy: 0.8652\n",
            "Epoch 28/30\n",
            "157/157 [==============================] - 2s 15ms/step - loss: 0.1350 - accuracy: 0.9555 - val_loss: 0.3531 - val_accuracy: 0.8632\n",
            "Epoch 29/30\n",
            "157/157 [==============================] - 2s 15ms/step - loss: 0.1298 - accuracy: 0.9582 - val_loss: 0.3559 - val_accuracy: 0.8650\n",
            "Epoch 30/30\n",
            "157/157 [==============================] - 2s 15ms/step - loss: 0.1249 - accuracy: 0.9597 - val_loss: 0.3619 - val_accuracy: 0.8632\n"
          ]
        }
      ]
    },
    {
      "cell_type": "markdown",
      "metadata": {
        "id": "n2yEkawIph4C"
      },
      "source": [
        "### 시각화"
      ]
    },
    {
      "cell_type": "code",
      "metadata": {
        "id": "BfKC0UOkpPmP",
        "colab": {
          "base_uri": "https://localhost:8080/",
          "height": 262
        },
        "outputId": "fa3cd9a0-e6c3-4ba2-c1af-c4213b47bfc3"
      },
      "source": [
        "import matplotlib.pyplot as plt\n",
        "plt.style.use('seaborn-white')\n",
        "\n",
        "loss = history.history['loss']\n",
        "val_loss = history.history['val_loss']\n",
        "acc = history.history['accuracy']\n",
        "val_acc = history.history['val_accuracy']\n",
        "\n",
        "epochs = range(1, len(loss) + 1)\n",
        "\n",
        "plt.plot(epochs, loss, 'b--', label='training loss')\n",
        "plt.plot(epochs, val_loss, 'r:', label='validation loss')\n",
        "plt.grid()\n",
        "plt.legend()\n",
        "\n",
        "plt.show()"
      ],
      "execution_count": 21,
      "outputs": [
        {
          "output_type": "display_data",
          "data": {
            "text/plain": [
              "<Figure size 432x288 with 1 Axes>"
            ],
            "image/png": "[encoded data removed]"
          },
          "metadata": {}
        }
      ]
    },
    {
      "cell_type": "code",
      "source": [
        "plt.plot(epochs, acc, 'b--', label='accuracy loss')\n",
        "plt.plot(epochs, val_acc, 'r:', label='validation accuracy')\n",
        "plt.grid()\n",
        "plt.legend()\n",
        "\n",
        "plt.show()"
      ],
      "metadata": {
        "colab": {
          "base_uri": "https://localhost:8080/",
          "height": 262
        },
        "id": "OqvjJP_fnEJx",
        "outputId": "0e357e79-bcaf-4698-cb89-99c11f9808e8"
      },
      "execution_count": 22,
      "outputs": [
        {
          "output_type": "display_data",
          "data": {
            "text/plain": [
              "<Figure size 432x288 with 1 Axes>"
            ],
            "image/png": "[encoded data removed]"
          },
          "metadata": {}
        }
      ]
    },
    {
      "cell_type": "code",
      "source": [
        "model.evaluate(pad_x_test, y_test)"
      ],
      "metadata": {
        "colab": {
          "base_uri": "https://localhost:8080/"
        },
        "id": "Lxe0_uQynJ-E",
        "outputId": "34f69a13-1ece-40e3-c55b-8218b9b647e0"
      },
      "execution_count": 23,
      "outputs": [
        {
          "output_type": "stream",
          "name": "stdout",
          "text": [
            "782/782 [==============================] - 4s 5ms/step - loss: 0.3769 - accuracy: 0.8542\n"
          ]
        },
        {
          "output_type": "execute_result",
          "data": {
            "text/plain": [
              "[0.37689295411109924, 0.8542400002479553]"
            ]
          },
          "metadata": {},
          "execution_count": 23
        }
      ]
    },
    {
      "cell_type": "markdown",
      "metadata": {
        "id": "Oz_Iu_VHV7Z5"
      },
      "source": [
        "## Reuters 데이터"
      ]
    },
    {
      "cell_type": "markdown",
      "metadata": {
        "id": "4_Q6p0nhV7Z6"
      },
      "source": [
        "### 데이터 로드 및 전처리"
      ]
    },
    {
      "cell_type": "code",
      "metadata": {
        "id": "waEmkCowV7Z7"
      },
      "source": [
        "from tensorflow.keras.datasets import reuters"
      ],
      "execution_count": 24,
      "outputs": []
    },
    {
      "cell_type": "code",
      "metadata": {
        "id": "dggcmeJ4V7Z_",
        "colab": {
          "base_uri": "https://localhost:8080/"
        },
        "outputId": "cf1199e1-23cf-498c-87c8-268145d9d3ad"
      },
      "source": [
        "num_words = 10000\n",
        "max_len = 500\n",
        "\n",
        "(input_train, y_train), (input_test, y_test) =  reuters.load_data(num_words=num_words)\n",
        "\n",
        "print(len(input_train))\n",
        "print(len(input_test))"
      ],
      "execution_count": 48,
      "outputs": [
        {
          "output_type": "stream",
          "name": "stdout",
          "text": [
            "8982\n",
            "2246\n"
          ]
        }
      ]
    },
    {
      "cell_type": "code",
      "metadata": {
        "id": "EBOJIgbgV7aB",
        "colab": {
          "base_uri": "https://localhost:8080/"
        },
        "outputId": "a8101698-9040-48a3-ace0-765b58c3313d"
      },
      "source": [
        "pad_x_train = pad_sequences(input_train, maxlen=max_len)\n",
        "pad_x_test = pad_sequences(input_test, maxlen=max_len)\n",
        "\n",
        "print(pad_x_train.shape)\n",
        "print(pad_x_test.shape)"
      ],
      "execution_count": 49,
      "outputs": [
        {
          "output_type": "stream",
          "name": "stdout",
          "text": [
            "(8982, 500)\n",
            "(2246, 500)\n"
          ]
        }
      ]
    },
    {
      "cell_type": "markdown",
      "metadata": {
        "id": "xehgNec0V7aE"
      },
      "source": [
        "### 모델 구성"
      ]
    },
    {
      "cell_type": "code",
      "metadata": {
        "id": "RTV2qF8_V7aE"
      },
      "source": [
        "def build_model():\n",
        "  model = Sequential()\n",
        "\n",
        "  model.add(Embedding(input_dim = num_words, output_dim = 64, input_length=max_len))\n",
        "  model.add(Conv1D(64,7,activation=\"relu\"))\n",
        "  model.add(MaxPooling1D(7))\n",
        "  model.add(Conv1D(64,5,activation=\"relu\"))\n",
        "  model.add(MaxPooling1D())\n",
        "  model.add(GlobalMaxPooling1D())\n",
        "  model.add(Dense(46,activation=\"softmax\"))\n",
        "\n",
        "  model.compile(optimizer='adam',\n",
        "                loss='sparse_categorical_crossentropy',\n",
        "                metrics=['accuracy'])\n",
        "  \n",
        "  return model"
      ],
      "execution_count": 50,
      "outputs": []
    },
    {
      "cell_type": "code",
      "metadata": {
        "id": "48n2W3xpV7aG",
        "colab": {
          "base_uri": "https://localhost:8080/"
        },
        "outputId": "c27ee198-ca4b-44aa-b0b4-a71b5e8be8b8"
      },
      "source": [
        "model = build_model()\n",
        "model.summary()"
      ],
      "execution_count": 51,
      "outputs": [
        {
          "output_type": "stream",
          "name": "stdout",
          "text": [
            "Model: \"sequential_6\"\n",
            "_________________________________________________________________\n",
            " Layer (type)                Output Shape              Param #   \n",
            "=================================================================\n",
            " embedding_6 (Embedding)     (None, 500, 64)           640000    \n",
            "                                                                 \n",
            " conv1d_12 (Conv1D)          (None, 494, 64)           28736     \n",
            "                                                                 \n",
            " max_pooling1d_12 (MaxPoolin  (None, 70, 64)           0         \n",
            " g1D)                                                            \n",
            "                                                                 \n",
            " conv1d_13 (Conv1D)          (None, 66, 64)            20544     \n",
            "                                                                 \n",
            " max_pooling1d_13 (MaxPoolin  (None, 33, 64)           0         \n",
            " g1D)                                                            \n",
            "                                                                 \n",
            " global_max_pooling1d_6 (Glo  (None, 64)               0         \n",
            " balMaxPooling1D)                                                \n",
            "                                                                 \n",
            " dense_5 (Dense)             (None, 46)                2990      \n",
            "                                                                 \n",
            "=================================================================\n",
            "Total params: 692,270\n",
            "Trainable params: 692,270\n",
            "Non-trainable params: 0\n",
            "_________________________________________________________________\n"
          ]
        }
      ]
    },
    {
      "cell_type": "markdown",
      "metadata": {
        "id": "WeRmu5WMV7aI"
      },
      "source": [
        "### 모델 학습"
      ]
    },
    {
      "cell_type": "code",
      "source": [
        "history = model.fit(pad_x_train, y_train,\n",
        "                    batch_size=128, epochs=30,\n",
        "                    validation_split=0.2)"
      ],
      "metadata": {
        "colab": {
          "base_uri": "https://localhost:8080/"
        },
        "id": "2sLR58xMoXRk",
        "outputId": "93725bf7-a261-4d9d-f1a8-3d05ed4af0a0"
      },
      "execution_count": 52,
      "outputs": [
        {
          "output_type": "stream",
          "name": "stdout",
          "text": [
            "Epoch 1/30\n",
            "57/57 [==============================] - 2s 27ms/step - loss: 2.6606 - accuracy: 0.3684 - val_loss: 2.0125 - val_accuracy: 0.5153\n",
            "Epoch 2/30\n",
            "57/57 [==============================] - 1s 21ms/step - loss: 1.8489 - accuracy: 0.5285 - val_loss: 1.7036 - val_accuracy: 0.5420\n",
            "Epoch 3/30\n",
            "57/57 [==============================] - 1s 22ms/step - loss: 1.5916 - accuracy: 0.5983 - val_loss: 1.5349 - val_accuracy: 0.6244\n",
            "Epoch 4/30\n",
            "57/57 [==============================] - 1s 22ms/step - loss: 1.3717 - accuracy: 0.6635 - val_loss: 1.4153 - val_accuracy: 0.6500\n",
            "Epoch 5/30\n",
            "57/57 [==============================] - 1s 21ms/step - loss: 1.1697 - accuracy: 0.7100 - val_loss: 1.3486 - val_accuracy: 0.6694\n",
            "Epoch 6/30\n",
            "57/57 [==============================] - 1s 22ms/step - loss: 0.9886 - accuracy: 0.7541 - val_loss: 1.3296 - val_accuracy: 0.6973\n",
            "Epoch 7/30\n",
            "57/57 [==============================] - 1s 22ms/step - loss: 0.8156 - accuracy: 0.8045 - val_loss: 1.3079 - val_accuracy: 0.7129\n",
            "Epoch 8/30\n",
            "57/57 [==============================] - 1s 22ms/step - loss: 0.6824 - accuracy: 0.8294 - val_loss: 1.3516 - val_accuracy: 0.7206\n",
            "Epoch 9/30\n",
            "57/57 [==============================] - 1s 21ms/step - loss: 0.5568 - accuracy: 0.8632 - val_loss: 1.3721 - val_accuracy: 0.7273\n",
            "Epoch 10/30\n",
            "57/57 [==============================] - 1s 22ms/step - loss: 0.4614 - accuracy: 0.8848 - val_loss: 1.4346 - val_accuracy: 0.7251\n",
            "Epoch 11/30\n",
            "57/57 [==============================] - 1s 22ms/step - loss: 0.3853 - accuracy: 0.9069 - val_loss: 1.5453 - val_accuracy: 0.7218\n",
            "Epoch 12/30\n",
            "57/57 [==============================] - 1s 22ms/step - loss: 0.3173 - accuracy: 0.9228 - val_loss: 1.5382 - val_accuracy: 0.7351\n",
            "Epoch 13/30\n",
            "57/57 [==============================] - 1s 22ms/step - loss: 0.2618 - accuracy: 0.9392 - val_loss: 1.6177 - val_accuracy: 0.7279\n",
            "Epoch 14/30\n",
            "57/57 [==============================] - 1s 24ms/step - loss: 0.2357 - accuracy: 0.9459 - val_loss: 1.6755 - val_accuracy: 0.7190\n",
            "Epoch 15/30\n",
            "57/57 [==============================] - 1s 25ms/step - loss: 0.2079 - accuracy: 0.9502 - val_loss: 1.6603 - val_accuracy: 0.7273\n",
            "Epoch 16/30\n",
            "57/57 [==============================] - 1s 23ms/step - loss: 0.1817 - accuracy: 0.9577 - val_loss: 1.7047 - val_accuracy: 0.7301\n",
            "Epoch 17/30\n",
            "57/57 [==============================] - 1s 22ms/step - loss: 0.1662 - accuracy: 0.9599 - val_loss: 1.7331 - val_accuracy: 0.7334\n",
            "Epoch 18/30\n",
            "57/57 [==============================] - 1s 22ms/step - loss: 0.1603 - accuracy: 0.9596 - val_loss: 1.7503 - val_accuracy: 0.7245\n",
            "Epoch 19/30\n",
            "57/57 [==============================] - 1s 22ms/step - loss: 0.1486 - accuracy: 0.9620 - val_loss: 1.7851 - val_accuracy: 0.7212\n",
            "Epoch 20/30\n",
            "57/57 [==============================] - 1s 22ms/step - loss: 0.1421 - accuracy: 0.9598 - val_loss: 1.8029 - val_accuracy: 0.7229\n",
            "Epoch 21/30\n",
            "57/57 [==============================] - 1s 22ms/step - loss: 0.1253 - accuracy: 0.9623 - val_loss: 1.8388 - val_accuracy: 0.7140\n",
            "Epoch 22/30\n",
            "57/57 [==============================] - 1s 23ms/step - loss: 0.1195 - accuracy: 0.9646 - val_loss: 1.7823 - val_accuracy: 0.7262\n",
            "Epoch 23/30\n",
            "57/57 [==============================] - 1s 23ms/step - loss: 0.1137 - accuracy: 0.9637 - val_loss: 1.8444 - val_accuracy: 0.7206\n",
            "Epoch 24/30\n",
            "57/57 [==============================] - 1s 22ms/step - loss: 0.1223 - accuracy: 0.9652 - val_loss: 1.7977 - val_accuracy: 0.7234\n",
            "Epoch 25/30\n",
            "57/57 [==============================] - 1s 23ms/step - loss: 0.1212 - accuracy: 0.9635 - val_loss: 1.8705 - val_accuracy: 0.7218\n",
            "Epoch 26/30\n",
            "57/57 [==============================] - 1s 23ms/step - loss: 0.1202 - accuracy: 0.9627 - val_loss: 1.8578 - val_accuracy: 0.7195\n",
            "Epoch 27/30\n",
            "57/57 [==============================] - 1s 22ms/step - loss: 0.1203 - accuracy: 0.9642 - val_loss: 1.8363 - val_accuracy: 0.7201\n",
            "Epoch 28/30\n",
            "57/57 [==============================] - 1s 22ms/step - loss: 0.1053 - accuracy: 0.9637 - val_loss: 1.8188 - val_accuracy: 0.7295\n",
            "Epoch 29/30\n",
            "57/57 [==============================] - 1s 22ms/step - loss: 0.1055 - accuracy: 0.9670 - val_loss: 1.7781 - val_accuracy: 0.7223\n",
            "Epoch 30/30\n",
            "57/57 [==============================] - 1s 22ms/step - loss: 0.1048 - accuracy: 0.9638 - val_loss: 1.8082 - val_accuracy: 0.7201\n"
          ]
        }
      ]
    },
    {
      "cell_type": "markdown",
      "metadata": {
        "id": "ao8NNj2SV7aL"
      },
      "source": [
        "### 시각화"
      ]
    },
    {
      "cell_type": "code",
      "metadata": {
        "id": "D_CisVtyV7aL",
        "colab": {
          "base_uri": "https://localhost:8080/",
          "height": 262
        },
        "outputId": "96a3d925-5f4a-4757-b166-b11b8a05d427"
      },
      "source": [
        "loss = history.history['loss']\n",
        "val_loss = history.history['val_loss']\n",
        "acc = history.history['accuracy']\n",
        "val_acc = history.history['val_accuracy']\n",
        "\n",
        "epochs = range(1, len(loss) + 1)\n",
        "\n",
        "plt.plot(epochs, loss, 'b--', label='training loss')\n",
        "plt.plot(epochs, val_loss, 'r:', label='validation loss')\n",
        "plt.grid()\n",
        "plt.legend()\n",
        "\n",
        "plt.show()"
      ],
      "execution_count": 53,
      "outputs": [
        {
          "output_type": "display_data",
          "data": {
            "text/plain": [
              "<Figure size 432x288 with 1 Axes>"
            ],
            "image/png": "[encoded data removed]"
          },
          "metadata": {}
        }
      ]
    },
    {
      "cell_type": "code",
      "metadata": {
        "id": "NCsNsoiUV7aP",
        "colab": {
          "base_uri": "https://localhost:8080/",
          "height": 262
        },
        "outputId": "8a44a0bf-d654-4237-90b9-5a66c0956039"
      },
      "source": [
        "plt.plot(epochs, acc, 'b--', label='accuracy loss')\n",
        "plt.plot(epochs, val_acc, 'r:', label='validation accuracy')\n",
        "plt.grid()\n",
        "plt.legend()\n",
        "\n",
        "plt.show()"
      ],
      "execution_count": 54,
      "outputs": [
        {
          "output_type": "display_data",
          "data": {
            "text/plain": [
              "<Figure size 432x288 with 1 Axes>"
            ],
            "image/png": "[encoded data removed]"
          },
          "metadata": {}
        }
      ]
    },
    {
      "cell_type": "code",
      "source": [
        "model.evaluate(pad_x_test,y_test)"
      ],
      "metadata": {
        "colab": {
          "base_uri": "https://localhost:8080/"
        },
        "id": "WNUwD8D8pjkX",
        "outputId": "047436c9-46c1-4c30-b423-fd93d540c2b6"
      },
      "execution_count": 47,
      "outputs": [
        {
          "output_type": "stream",
          "name": "stdout",
          "text": [
            "71/71 [==============================] - 0s 5ms/step - loss: 1.6439 - accuracy: 0.7444\n"
          ]
        },
        {
          "output_type": "execute_result",
          "data": {
            "text/plain": [
              "[1.643938660621643, 0.7444345355033875]"
            ]
          },
          "metadata": {},
          "execution_count": 47
        }
      ]
    },
    {
      "cell_type": "code",
      "source": [
        ""
      ],
      "metadata": {
        "id": "t1zU63qcpoJ7"
      },
      "execution_count": null,
      "outputs": []
    }
  ]
}